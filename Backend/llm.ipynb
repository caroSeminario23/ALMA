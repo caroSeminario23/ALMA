{
 "cells": [
  {
   "cell_type": "code",
   "execution_count": 6,
   "metadata": {},
   "outputs": [],
   "source": [
    "import google.generativeai as genai\n",
    "from dotenv import load_dotenv\n",
    "import os\n",
    "\n",
    "load_dotenv()\n",
    "api_key = os.environ[\"API_KEY\"]\n",
    "\n",
    "genai.configure(api_key=api_key)\n",
    "\n",
    "model = genai.GenerativeModel('gemini-1.5-flash')"
   ]
  },
  {
   "cell_type": "code",
   "execution_count": 7,
   "metadata": {},
   "outputs": [
    {
     "name": "stdout",
     "output_type": "stream",
     "text": [
      "Un caramelito llega a la farmacia y le dice al farmacéutico: \"¡Necesito un antibiótico! Tengo un dolor de garganta terrible.\" \n",
      "\n",
      "El farmacéutico lo mira con confusión y le responde: \"Pero... tú eres un caramelito, ¿cómo puedes tener dolor de garganta?\" \n",
      "\n",
      "El caramelito, con un tono de voz agudo, responde: \"¡Pues tengo un caramelo en la garganta!\" \n",
      "\n"
     ]
    }
   ],
   "source": [
    "response = model.generate_content(\"Cuéntame un chiste sobre caramelitos\")\n",
    "print(response.text)"
   ]
  }
 ],
 "metadata": {
  "kernelspec": {
   "display_name": "venv",
   "language": "python",
   "name": "python3"
  },
  "language_info": {
   "codemirror_mode": {
    "name": "ipython",
    "version": 3
   },
   "file_extension": ".py",
   "mimetype": "text/x-python",
   "name": "python",
   "nbconvert_exporter": "python",
   "pygments_lexer": "ipython3",
   "version": "3.12.1"
  }
 },
 "nbformat": 4,
 "nbformat_minor": 2
}
